{
  "cells": [
    {
      "metadata": {
        "_kg_hide-output": true,
        "_kg_hide-input": true,
        "trusted": true,
        "_uuid": "7cdca812b176d9cc19bec30b12c700178571341d"
      },
      "cell_type": "code",
      "source": "### 패키지 설치 \nimport pandas as pd #Analysis \nimport matplotlib.pyplot as plt #Visulization\nimport seaborn as sns #Visulization\nimport numpy as np #Analysis \nfrom scipy.stats import norm #Analysis \nfrom sklearn.preprocessing import StandardScaler #Analysis \nfrom scipy import stats #Analysis \nimport warnings \nwarnings.filterwarnings('ignore')\n%matplotlib inline\nimport gc\n\nimport os\nimport string\ncolor = sns.color_palette()\n\n%matplotlib inline\n\nfrom plotly import tools\nimport plotly.offline as py\npy.init_notebook_mode(connected=True)\nimport plotly.graph_objs as go\n\nfrom sklearn import model_selection, preprocessing, metrics, ensemble, naive_bayes, linear_model\nfrom sklearn.feature_extraction.text import TfidfVectorizer, CountVectorizer\nfrom sklearn.decomposition import TruncatedSVD\n\npd.options.mode.chained_assignment = None\npd.options.display.max_columns = 999\n\nimport plotly.graph_objs as go\n\nimport time\nimport random",
      "execution_count": 1,
      "outputs": [
        {
          "output_type": "display_data",
          "data": {
            "text/html": "<script type=\"text/javascript\">window.PlotlyConfig = {MathJaxConfig: 'local'};</script><script type=\"text/javascript\">if (window.MathJax) {MathJax.Hub.Config({SVG: {font: \"STIX-Web\"}});}</script><script>requirejs.config({paths: { 'plotly': ['https://cdn.plot.ly/plotly-latest.min']},});if(!window._Plotly) {require(['plotly'],function(plotly) {window._Plotly=plotly;});}</script>",
            "text/vnd.plotly.v1+html": "<script type=\"text/javascript\">window.PlotlyConfig = {MathJaxConfig: 'local'};</script><script type=\"text/javascript\">if (window.MathJax) {MathJax.Hub.Config({SVG: {font: \"STIX-Web\"}});}</script><script>requirejs.config({paths: { 'plotly': ['https://cdn.plot.ly/plotly-latest.min']},});if(!window._Plotly) {require(['plotly'],function(plotly) {window._Plotly=plotly;});}</script>"
          },
          "metadata": {}
        }
      ]
    },
    {
      "metadata": {
        "_uuid": "8f2839f25d086af736a60e9eeb907d3b93b6e0e5",
        "_cell_guid": "b1076dfc-b9ad-4769-8c92-a6c4dae69d19",
        "trusted": true
      },
      "cell_type": "code",
      "source": "import lightgbm as lgb\nfrom sklearn.model_selection import KFold, StratifiedKFold\nimport warnings\nimport gc\nimport time\nimport sys\nimport datetime\nimport matplotlib.pyplot as plt\nimport seaborn as sns\nfrom sklearn.metrics import mean_squared_error\nwarnings.simplefilter(action='ignore', category=FutureWarning)\nwarnings.filterwarnings('ignore')\nfrom sklearn import metrics\n\nplt.style.use('seaborn')\nsns.set(font_scale=1)\npd.set_option('display.max_columns', 500)",
      "execution_count": 2,
      "outputs": []
    },
    {
      "metadata": {
        "_cell_guid": "79c7e3d0-c299-4dcb-8224-4455121ee9b0",
        "_uuid": "d629ff2d2480ee46fbb7e2d37f6b5fab8052498a",
        "trusted": true
      },
      "cell_type": "code",
      "source": "train_df = pd.read_csv(\"../input/train.csv\")\ntest_df = pd.read_csv(\"../input/test.csv\")",
      "execution_count": null,
      "outputs": []
    },
    {
      "metadata": {
        "trusted": true,
        "_uuid": "6d620e0dd22e27e639fee2bf056c0fe6528e237b",
        "_kg_hide-input": true
      },
      "cell_type": "code",
      "source": "# https://www.kaggle.com/fayzur/customer-transaction-prediction-strong-baseline\n# Thanks fayzur. Nice Parameter \nparam = {\n        'num_leaves': 10,\n        'max_bin': 119,\n        'min_data_in_leaf': 11,\n        'learning_rate': 0.014, # 0.015, #0.02\n        'min_sum_hessian_in_leaf': 0.00245,\n        'bagging_fraction': 1.0, \n        'bagging_freq': 5, \n        'feature_fraction': 0.05,\n        'lambda_l1': 4.972,\n        'lambda_l2': 2.276,\n        'min_gain_to_split': 0.85, #0.65,\n        'max_depth': 14,\n        'save_binary': True,\n        'seed': 1337,\n        'feature_fraction_seed': 1337,\n        'bagging_seed': 1337,\n        'drop_seed': 1337,\n        'data_random_seed': 1337,\n        'objective': 'binary',\n        'boosting_type': 'gbdt',\n        'verbose': 1,\n        'metric': 'auc',\n        'is_unbalance': True,\n        'boost_from_average': False,\n    }",
      "execution_count": null,
      "outputs": []
    },
    {
      "metadata": {
        "trusted": true,
        "_uuid": "e0775a59bf014dbbb7a8e879dd9cd3c008b56ee6"
      },
      "cell_type": "code",
      "source": "features = [c for c in train_df.columns if c not in ['ID_code', 'target']]\ntarget = train_df['target']",
      "execution_count": null,
      "outputs": []
    },
    {
      "metadata": {
        "trusted": true,
        "_uuid": "f7c1952aecdc81cf4afdda7f9fdc9342e0484442",
        "scrolled": true
      },
      "cell_type": "code",
      "source": "%%time\nfrom sklearn.metrics import roc_auc_score, roc_curve\nskf = StratifiedKFold(n_splits=5, shuffle=True, random_state=2019)\noof = np.zeros(len(train_df))\npredictions = np.zeros(len(test_df))\nfeature_importance_df = pd.DataFrame()\n\nstart = time.time()\n\n\nfor fold_, (trn_idx, val_idx) in enumerate(skf.split(train_df.values, target.values)):\n    print(\"fold n°{}\".format(fold_))\n#     trn_data = lgb.Dataset(train_df.iloc[trn_idx][features], label=target.iloc[trn_idx], categorical_feature=[68])\n    trn_data = lgb.Dataset(train_df.iloc[trn_idx][features], label=target.iloc[trn_idx])\n    val_data = lgb.Dataset(train_df.iloc[val_idx][features], label=target.iloc[val_idx], reference=trn_data)\n\n    num_round = 10000\n    clf = lgb.train(param,  trn_data, num_round, valid_sets = [trn_data, val_data], verbose_eval=1000, early_stopping_rounds = 100)\n    oof[val_idx] = clf.predict(train_df.iloc[val_idx][features], num_iteration=clf.best_iteration)\n    \n    fold_importance_df = pd.DataFrame()\n    fold_importance_df[\"feature\"] = features\n    fold_importance_df[\"importance\"] = clf.feature_importance()\n    fold_importance_df[\"fold\"] = fold_ + 1\n    feature_importance_df = pd.concat([feature_importance_df, fold_importance_df], axis=0)\n    \n    predictions += clf.predict(test_df[features], num_iteration=clf.best_iteration) / 5\n\nprint(\"CV score: {:<8.5f}\".format(roc_auc_score(target, oof)))",
      "execution_count": null,
      "outputs": []
    },
    {
      "metadata": {
        "trusted": true,
        "_uuid": "2d53f531c423fc9b9695555f1eef12771b6d88e1"
      },
      "cell_type": "code",
      "source": "##submission\nsub_df = pd.DataFrame({\"ID_code\":test_df[\"ID_code\"].values})\nsub_df[\"target\"] = predictions\nsub_df.to_csv(\"lgb_submission.csv\", index=False)",
      "execution_count": null,
      "outputs": []
    },
    {
      "metadata": {
        "trusted": true,
        "_uuid": "6fc313aeff29c13b83db3abfcbe51ed08f7e9b1b"
      },
      "cell_type": "code",
      "source": "## Catboost : https://www.kaggle.com/wakamezake/starter-code-catboost-baseline\nfrom catboost import Pool, CatBoostClassifier\nmodel = CatBoostClassifier(loss_function=\"Logloss\", learning_rate=0.1, random_strength = 2, iterations = 2000, eval_metric=\"AUC\")\nkf = KFold(n_splits=5, random_state=42, shuffle=True)\n\ny_valid_pred = 0 * target\ny_test_pred = 0\n\nfor idx, (train_index, valid_index) in enumerate(kf.split(train_df)):\n    y_train, y_valid = target.iloc[train_index], target.iloc[valid_index]\n    X_train, X_valid = train_df[features].iloc[train_index,:], train_df[features].iloc[valid_index,:]\n    _train = Pool(X_train, label=y_train)\n    _valid = Pool(X_valid, label=y_valid)\n    print( \"\\nFold \", idx)\n    fit_model = model.fit(_train,\n                          eval_set=_valid,\n                          use_best_model=True,\n                          verbose=200\n                         )\n#     pred = fit_model.predict_proba(X_valid)[:,1]\n#     print( \"  auc = \", roc_auc_score(y_valid, pred) )\n#     y_valid_pred.iloc[valid_index] = pred\n#     y_test_pred += fit_model.predict_proba(test_df[features])[:,1]\ny_test_pred /= 5",
      "execution_count": null,
      "outputs": []
    },
    {
      "metadata": {
        "trusted": true,
        "_uuid": "da02204a130a43e5efb0967350ec84fbb0d38156"
      },
      "cell_type": "code",
      "source": "##submission\nsub_df1 = pd.DataFrame({\"ID_code\":test_df[\"ID_code\"].values})\nsub_df1[\"target\"] = y_test_pred\nsub_df1.to_csv(\"cat_submission.csv\", index=False)",
      "execution_count": null,
      "outputs": []
    },
    {
      "metadata": {
        "trusted": true,
        "_uuid": "b37bf176b65d0fab959625832c05bd22e1b0501f"
      },
      "cell_type": "code",
      "source": "corr_df = pd.merge(sub_df,sub_df1,how='left',on='ID_code')\ncorr_df.corr()",
      "execution_count": null,
      "outputs": []
    },
    {
      "metadata": {
        "trusted": true,
        "_uuid": "06da1c6f92bb4f6ad9c725569c511b084d18d1e6"
      },
      "cell_type": "code",
      "source": "##submission\nsub_df2 = pd.DataFrame({\"ID_code\":test_df[\"ID_code\"].values})\nsub_df2[\"target\"] = 0.5*sub_df[\"target\"] + 0.5*sub_df1[\"target\"]\nsub_df2.to_csv(\"lgb_cat_submission.csv\", index=False)",
      "execution_count": null,
      "outputs": []
    }
  ],
  "metadata": {
    "kernelspec": {
      "display_name": "Python 3",
      "language": "python",
      "name": "python3"
    },
    "language_info": {
      "name": "python",
      "version": "3.6.6",
      "mimetype": "text/x-python",
      "codemirror_mode": {
        "name": "ipython",
        "version": 3
      },
      "pygments_lexer": "ipython3",
      "nbconvert_exporter": "python",
      "file_extension": ".py"
    }
  },
  "nbformat": 4,
  "nbformat_minor": 1
}